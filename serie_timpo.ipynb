{
 "cells": [
  {
   "cell_type": "code",
   "execution_count": 2,
   "metadata": {},
   "outputs": [],
   "source": [
    "import pandas as pd\n",
    "import numpy as np\n",
    "import seaborn as sns\n",
    "import matplotlib.pyplot as plt\n"
   ]
  },
  {
   "cell_type": "code",
   "execution_count": 3,
   "metadata": {},
   "outputs": [
    {
     "data": {
      "text/plain": [
       "<bound method IndexOpsMixin.value_counts of Index(['SNo', 'ObservationDate', 'Province/State', 'Country/Region',\n",
       "       'Last Update', 'Confirmed', 'Deaths', 'Recovered'],\n",
       "      dtype='object')>"
      ]
     },
     "execution_count": 3,
     "metadata": {},
     "output_type": "execute_result"
    }
   ],
   "source": [
    "df=pd.read_csv(\"base_datos/covid_19_data.csv\")\n",
    "df.head()\n",
    "df.columns.value_counts"
   ]
  },
  {
   "cell_type": "code",
   "execution_count": 4,
   "metadata": {},
   "outputs": [
    {
     "data": {
      "text/plain": [
       "['SNo',\n",
       " 'ObservationDate',\n",
       " 'Province/State',\n",
       " 'Country/Region',\n",
       " 'Last Update',\n",
       " 'Confirmed',\n",
       " 'Deaths',\n",
       " 'Recovered']"
      ]
     },
     "execution_count": 4,
     "metadata": {},
     "output_type": "execute_result"
    }
   ],
   "source": [
    "df['ObservationDate']=pd.to_datetime(df['ObservationDate'])\n",
    "list(df)"
   ]
  },
  {
   "cell_type": "code",
   "execution_count": 5,
   "metadata": {},
   "outputs": [],
   "source": [
    "df_1=df.copy()"
   ]
  },
  {
   "cell_type": "code",
   "execution_count": 6,
   "metadata": {},
   "outputs": [],
   "source": [
    "df_1=df[['ObservationDate',\n",
    "'Country/Region',\n",
    "'Confirmed',\n",
    "'Deaths',\n",
    "'Recovered']]"
   ]
  },
  {
   "cell_type": "markdown",
   "metadata": {},
   "source": [
    "Al usar df.groupby(['ObservationDate']).sum() se tiene que se agruparan las variables en relacion a la columna de tiempo y se sumaran todas las ocurrencias."
   ]
  },
  {
   "cell_type": "code",
   "execution_count": 7,
   "metadata": {},
   "outputs": [],
   "source": [
    "df_time=df_1.groupby(['ObservationDate']).sum()\n"
   ]
  },
  {
   "cell_type": "code",
   "execution_count": 8,
   "metadata": {},
   "outputs": [
    {
     "data": {
      "text/plain": [
       "ObservationDate\n",
       "2020-02-01    12038.0\n",
       "2020-02-02    16787.0\n",
       "2020-02-03    19881.0\n",
       "2020-02-04    23892.0\n",
       "2020-02-05    27636.0\n",
       "Name: Confirmed, dtype: float64"
      ]
     },
     "execution_count": 8,
     "metadata": {},
     "output_type": "execute_result"
    }
   ],
   "source": [
    "df1=df_time[\"Confirmed\"].iloc[10:15]\n",
    "df1"
   ]
  },
  {
   "cell_type": "code",
   "execution_count": 9,
   "metadata": {},
   "outputs": [
    {
     "data": {
      "text/plain": [
       "ObservationDate\n",
       "2020-02-03    19881.0\n",
       "2020-02-04    23892.0\n",
       "2020-02-05    27636.0\n",
       "2020-02-06    30818.0\n",
       "2020-02-07    34392.0\n",
       "Name: Confirmed, dtype: float64"
      ]
     },
     "execution_count": 9,
     "metadata": {},
     "output_type": "execute_result"
    }
   ],
   "source": [
    "df2=df_time[\"Confirmed\"].iloc[12:17]\n",
    "df2"
   ]
  },
  {
   "cell_type": "code",
   "execution_count": 10,
   "metadata": {},
   "outputs": [
    {
     "data": {
      "text/plain": [
       "ObservationDate\n",
       "2020-02-01    NaN\n",
       "2020-02-02    NaN\n",
       "2020-02-03    0.0\n",
       "2020-02-04    0.0\n",
       "2020-02-05    0.0\n",
       "2020-02-06    NaN\n",
       "2020-02-07    NaN\n",
       "Name: Confirmed, dtype: float64"
      ]
     },
     "execution_count": 10,
     "metadata": {},
     "output_type": "execute_result"
    }
   ],
   "source": [
    "df1-df2"
   ]
  },
  {
   "cell_type": "code",
   "execution_count": 11,
   "metadata": {},
   "outputs": [
    {
     "data": {
      "text/html": [
       "<div>\n",
       "<style scoped>\n",
       "    .dataframe tbody tr th:only-of-type {\n",
       "        vertical-align: middle;\n",
       "    }\n",
       "\n",
       "    .dataframe tbody tr th {\n",
       "        vertical-align: top;\n",
       "    }\n",
       "\n",
       "    .dataframe thead th {\n",
       "        text-align: right;\n",
       "    }\n",
       "</style>\n",
       "<table border=\"1\" class=\"dataframe\">\n",
       "  <thead>\n",
       "    <tr style=\"text-align: right;\">\n",
       "      <th></th>\n",
       "      <th>Confirmed</th>\n",
       "      <th>Deaths</th>\n",
       "      <th>Recovered</th>\n",
       "    </tr>\n",
       "    <tr>\n",
       "      <th>ObservationDate</th>\n",
       "      <th></th>\n",
       "      <th></th>\n",
       "      <th></th>\n",
       "    </tr>\n",
       "  </thead>\n",
       "  <tbody>\n",
       "    <tr>\n",
       "      <th>2020-01-22</th>\n",
       "      <td>557.0</td>\n",
       "      <td>17.0</td>\n",
       "      <td>30.0</td>\n",
       "    </tr>\n",
       "  </tbody>\n",
       "</table>\n",
       "</div>"
      ],
      "text/plain": [
       "                 Confirmed  Deaths  Recovered\n",
       "ObservationDate                              \n",
       "2020-01-22           557.0    17.0       30.0"
      ]
     },
     "execution_count": 11,
     "metadata": {},
     "output_type": "execute_result"
    }
   ],
   "source": [
    "primera_observacion=df_time.iloc[:1]\n",
    "primera_observacion"
   ]
  },
  {
   "cell_type": "code",
   "execution_count": 12,
   "metadata": {},
   "outputs": [
    {
     "data": {
      "text/html": [
       "<div>\n",
       "<style scoped>\n",
       "    .dataframe tbody tr th:only-of-type {\n",
       "        vertical-align: middle;\n",
       "    }\n",
       "\n",
       "    .dataframe tbody tr th {\n",
       "        vertical-align: top;\n",
       "    }\n",
       "\n",
       "    .dataframe thead th {\n",
       "        text-align: right;\n",
       "    }\n",
       "</style>\n",
       "<table border=\"1\" class=\"dataframe\">\n",
       "  <thead>\n",
       "    <tr style=\"text-align: right;\">\n",
       "      <th></th>\n",
       "      <th>Confirmed</th>\n",
       "      <th>Deaths</th>\n",
       "      <th>Recovered</th>\n",
       "    </tr>\n",
       "    <tr>\n",
       "      <th>ObservationDate</th>\n",
       "      <th></th>\n",
       "      <th></th>\n",
       "      <th></th>\n",
       "    </tr>\n",
       "  </thead>\n",
       "  <tbody>\n",
       "    <tr>\n",
       "      <th>2020-01-22</th>\n",
       "      <td>NaN</td>\n",
       "      <td>NaN</td>\n",
       "      <td>NaN</td>\n",
       "    </tr>\n",
       "    <tr>\n",
       "      <th>2020-01-23</th>\n",
       "      <td>540.0</td>\n",
       "      <td>17.0</td>\n",
       "      <td>30.0</td>\n",
       "    </tr>\n",
       "    <tr>\n",
       "      <th>2020-01-24</th>\n",
       "      <td>-156.0</td>\n",
       "      <td>-8.0</td>\n",
       "      <td>-21.0</td>\n",
       "    </tr>\n",
       "    <tr>\n",
       "      <th>2020-01-25</th>\n",
       "      <td>496.0</td>\n",
       "      <td>16.0</td>\n",
       "      <td>3.0</td>\n",
       "    </tr>\n",
       "    <tr>\n",
       "      <th>2020-01-26</th>\n",
       "      <td>681.0</td>\n",
       "      <td>14.0</td>\n",
       "      <td>14.0</td>\n",
       "    </tr>\n",
       "    <tr>\n",
       "      <th>...</th>\n",
       "      <td>...</td>\n",
       "      <td>...</td>\n",
       "      <td>...</td>\n",
       "    </tr>\n",
       "    <tr>\n",
       "      <th>2021-05-25</th>\n",
       "      <td>531845.0</td>\n",
       "      <td>12752.0</td>\n",
       "      <td>577063.0</td>\n",
       "    </tr>\n",
       "    <tr>\n",
       "      <th>2021-05-26</th>\n",
       "      <td>568216.0</td>\n",
       "      <td>12756.0</td>\n",
       "      <td>555813.0</td>\n",
       "    </tr>\n",
       "    <tr>\n",
       "      <th>2021-05-27</th>\n",
       "      <td>554368.0</td>\n",
       "      <td>12753.0</td>\n",
       "      <td>697358.0</td>\n",
       "    </tr>\n",
       "    <tr>\n",
       "      <th>2021-05-28</th>\n",
       "      <td>499934.0</td>\n",
       "      <td>11820.0</td>\n",
       "      <td>554963.0</td>\n",
       "    </tr>\n",
       "    <tr>\n",
       "      <th>2021-05-29</th>\n",
       "      <td>480835.0</td>\n",
       "      <td>10502.0</td>\n",
       "      <td>507600.0</td>\n",
       "    </tr>\n",
       "  </tbody>\n",
       "</table>\n",
       "<p>494 rows × 3 columns</p>\n",
       "</div>"
      ],
      "text/plain": [
       "                 Confirmed   Deaths  Recovered\n",
       "ObservationDate                               \n",
       "2020-01-22             NaN      NaN        NaN\n",
       "2020-01-23           540.0     17.0       30.0\n",
       "2020-01-24          -156.0     -8.0      -21.0\n",
       "2020-01-25           496.0     16.0        3.0\n",
       "2020-01-26           681.0     14.0       14.0\n",
       "...                    ...      ...        ...\n",
       "2021-05-25        531845.0  12752.0   577063.0\n",
       "2021-05-26        568216.0  12756.0   555813.0\n",
       "2021-05-27        554368.0  12753.0   697358.0\n",
       "2021-05-28        499934.0  11820.0   554963.0\n",
       "2021-05-29        480835.0  10502.0   507600.0\n",
       "\n",
       "[494 rows x 3 columns]"
      ]
     },
     "execution_count": 12,
     "metadata": {},
     "output_type": "execute_result"
    }
   ],
   "source": [
    "df_time.diff()"
   ]
  },
  {
   "cell_type": "code",
   "execution_count": 13,
   "metadata": {},
   "outputs": [],
   "source": [
    "df_diff=df_time.diff()\n",
    "df_diff.iloc[:1]=primera_observacion\n"
   ]
  },
  {
   "cell_type": "code",
   "execution_count": 14,
   "metadata": {},
   "outputs": [
    {
     "data": {
      "text/html": [
       "<div>\n",
       "<style scoped>\n",
       "    .dataframe tbody tr th:only-of-type {\n",
       "        vertical-align: middle;\n",
       "    }\n",
       "\n",
       "    .dataframe tbody tr th {\n",
       "        vertical-align: top;\n",
       "    }\n",
       "\n",
       "    .dataframe thead th {\n",
       "        text-align: right;\n",
       "    }\n",
       "</style>\n",
       "<table border=\"1\" class=\"dataframe\">\n",
       "  <thead>\n",
       "    <tr style=\"text-align: right;\">\n",
       "      <th></th>\n",
       "      <th>Confirmed</th>\n",
       "      <th>Deaths</th>\n",
       "      <th>Recovered</th>\n",
       "    </tr>\n",
       "    <tr>\n",
       "      <th>ObservationDate</th>\n",
       "      <th></th>\n",
       "      <th></th>\n",
       "      <th></th>\n",
       "    </tr>\n",
       "  </thead>\n",
       "  <tbody>\n",
       "    <tr>\n",
       "      <th>2020-01-22</th>\n",
       "      <td>557.0</td>\n",
       "      <td>17.0</td>\n",
       "      <td>30.0</td>\n",
       "    </tr>\n",
       "    <tr>\n",
       "      <th>2020-01-23</th>\n",
       "      <td>540.0</td>\n",
       "      <td>17.0</td>\n",
       "      <td>30.0</td>\n",
       "    </tr>\n",
       "    <tr>\n",
       "      <th>2020-01-24</th>\n",
       "      <td>-156.0</td>\n",
       "      <td>-8.0</td>\n",
       "      <td>-21.0</td>\n",
       "    </tr>\n",
       "    <tr>\n",
       "      <th>2020-01-25</th>\n",
       "      <td>496.0</td>\n",
       "      <td>16.0</td>\n",
       "      <td>3.0</td>\n",
       "    </tr>\n",
       "    <tr>\n",
       "      <th>2020-01-26</th>\n",
       "      <td>681.0</td>\n",
       "      <td>14.0</td>\n",
       "      <td>14.0</td>\n",
       "    </tr>\n",
       "    <tr>\n",
       "      <th>...</th>\n",
       "      <td>...</td>\n",
       "      <td>...</td>\n",
       "      <td>...</td>\n",
       "    </tr>\n",
       "    <tr>\n",
       "      <th>2021-05-25</th>\n",
       "      <td>531845.0</td>\n",
       "      <td>12752.0</td>\n",
       "      <td>577063.0</td>\n",
       "    </tr>\n",
       "    <tr>\n",
       "      <th>2021-05-26</th>\n",
       "      <td>568216.0</td>\n",
       "      <td>12756.0</td>\n",
       "      <td>555813.0</td>\n",
       "    </tr>\n",
       "    <tr>\n",
       "      <th>2021-05-27</th>\n",
       "      <td>554368.0</td>\n",
       "      <td>12753.0</td>\n",
       "      <td>697358.0</td>\n",
       "    </tr>\n",
       "    <tr>\n",
       "      <th>2021-05-28</th>\n",
       "      <td>499934.0</td>\n",
       "      <td>11820.0</td>\n",
       "      <td>554963.0</td>\n",
       "    </tr>\n",
       "    <tr>\n",
       "      <th>2021-05-29</th>\n",
       "      <td>480835.0</td>\n",
       "      <td>10502.0</td>\n",
       "      <td>507600.0</td>\n",
       "    </tr>\n",
       "  </tbody>\n",
       "</table>\n",
       "<p>494 rows × 3 columns</p>\n",
       "</div>"
      ],
      "text/plain": [
       "                 Confirmed   Deaths  Recovered\n",
       "ObservationDate                               \n",
       "2020-01-22           557.0     17.0       30.0\n",
       "2020-01-23           540.0     17.0       30.0\n",
       "2020-01-24          -156.0     -8.0      -21.0\n",
       "2020-01-25           496.0     16.0        3.0\n",
       "2020-01-26           681.0     14.0       14.0\n",
       "...                    ...      ...        ...\n",
       "2021-05-25        531845.0  12752.0   577063.0\n",
       "2021-05-26        568216.0  12756.0   555813.0\n",
       "2021-05-27        554368.0  12753.0   697358.0\n",
       "2021-05-28        499934.0  11820.0   554963.0\n",
       "2021-05-29        480835.0  10502.0   507600.0\n",
       "\n",
       "[494 rows x 3 columns]"
      ]
     },
     "execution_count": 14,
     "metadata": {},
     "output_type": "execute_result"
    }
   ],
   "source": [
    "df_diff"
   ]
  },
  {
   "cell_type": "code",
   "execution_count": 15,
   "metadata": {},
   "outputs": [
    {
     "data": {
      "text/html": [
       "<div>\n",
       "<style scoped>\n",
       "    .dataframe tbody tr th:only-of-type {\n",
       "        vertical-align: middle;\n",
       "    }\n",
       "\n",
       "    .dataframe tbody tr th {\n",
       "        vertical-align: top;\n",
       "    }\n",
       "\n",
       "    .dataframe thead th {\n",
       "        text-align: right;\n",
       "    }\n",
       "</style>\n",
       "<table border=\"1\" class=\"dataframe\">\n",
       "  <thead>\n",
       "    <tr style=\"text-align: right;\">\n",
       "      <th></th>\n",
       "      <th>Confirmed</th>\n",
       "      <th>Deaths</th>\n",
       "      <th>Recovered</th>\n",
       "    </tr>\n",
       "    <tr>\n",
       "      <th>ObservationDate</th>\n",
       "      <th></th>\n",
       "      <th></th>\n",
       "      <th></th>\n",
       "    </tr>\n",
       "  </thead>\n",
       "  <tbody>\n",
       "    <tr>\n",
       "      <th>2020-01-22</th>\n",
       "      <td>557.0</td>\n",
       "      <td>17.0</td>\n",
       "      <td>30.0</td>\n",
       "    </tr>\n",
       "    <tr>\n",
       "      <th>2020-01-23</th>\n",
       "      <td>1097.0</td>\n",
       "      <td>34.0</td>\n",
       "      <td>60.0</td>\n",
       "    </tr>\n",
       "    <tr>\n",
       "      <th>2020-01-24</th>\n",
       "      <td>941.0</td>\n",
       "      <td>26.0</td>\n",
       "      <td>39.0</td>\n",
       "    </tr>\n",
       "    <tr>\n",
       "      <th>2020-01-25</th>\n",
       "      <td>1437.0</td>\n",
       "      <td>42.0</td>\n",
       "      <td>42.0</td>\n",
       "    </tr>\n",
       "    <tr>\n",
       "      <th>2020-01-26</th>\n",
       "      <td>2118.0</td>\n",
       "      <td>56.0</td>\n",
       "      <td>56.0</td>\n",
       "    </tr>\n",
       "    <tr>\n",
       "      <th>...</th>\n",
       "      <td>...</td>\n",
       "      <td>...</td>\n",
       "      <td>...</td>\n",
       "    </tr>\n",
       "    <tr>\n",
       "      <th>2021-05-25</th>\n",
       "      <td>167848207.0</td>\n",
       "      <td>3485788.0</td>\n",
       "      <td>104824935.0</td>\n",
       "    </tr>\n",
       "    <tr>\n",
       "      <th>2021-05-26</th>\n",
       "      <td>168416423.0</td>\n",
       "      <td>3498544.0</td>\n",
       "      <td>105380748.0</td>\n",
       "    </tr>\n",
       "    <tr>\n",
       "      <th>2021-05-27</th>\n",
       "      <td>168970791.0</td>\n",
       "      <td>3511297.0</td>\n",
       "      <td>106078106.0</td>\n",
       "    </tr>\n",
       "    <tr>\n",
       "      <th>2021-05-28</th>\n",
       "      <td>169470725.0</td>\n",
       "      <td>3523117.0</td>\n",
       "      <td>106633069.0</td>\n",
       "    </tr>\n",
       "    <tr>\n",
       "      <th>2021-05-29</th>\n",
       "      <td>169951560.0</td>\n",
       "      <td>3533619.0</td>\n",
       "      <td>107140669.0</td>\n",
       "    </tr>\n",
       "  </tbody>\n",
       "</table>\n",
       "<p>494 rows × 3 columns</p>\n",
       "</div>"
      ],
      "text/plain": [
       "                   Confirmed     Deaths    Recovered\n",
       "ObservationDate                                     \n",
       "2020-01-22             557.0       17.0         30.0\n",
       "2020-01-23            1097.0       34.0         60.0\n",
       "2020-01-24             941.0       26.0         39.0\n",
       "2020-01-25            1437.0       42.0         42.0\n",
       "2020-01-26            2118.0       56.0         56.0\n",
       "...                      ...        ...          ...\n",
       "2021-05-25       167848207.0  3485788.0  104824935.0\n",
       "2021-05-26       168416423.0  3498544.0  105380748.0\n",
       "2021-05-27       168970791.0  3511297.0  106078106.0\n",
       "2021-05-28       169470725.0  3523117.0  106633069.0\n",
       "2021-05-29       169951560.0  3533619.0  107140669.0\n",
       "\n",
       "[494 rows x 3 columns]"
      ]
     },
     "execution_count": 15,
     "metadata": {},
     "output_type": "execute_result"
    }
   ],
   "source": [
    "df_diff.cumsum()"
   ]
  },
  {
   "cell_type": "code",
   "execution_count": 16,
   "metadata": {},
   "outputs": [
    {
     "data": {
      "text/html": [
       "<div>\n",
       "<style scoped>\n",
       "    .dataframe tbody tr th:only-of-type {\n",
       "        vertical-align: middle;\n",
       "    }\n",
       "\n",
       "    .dataframe tbody tr th {\n",
       "        vertical-align: top;\n",
       "    }\n",
       "\n",
       "    .dataframe thead th {\n",
       "        text-align: right;\n",
       "    }\n",
       "</style>\n",
       "<table border=\"1\" class=\"dataframe\">\n",
       "  <thead>\n",
       "    <tr style=\"text-align: right;\">\n",
       "      <th></th>\n",
       "      <th>Confirmed</th>\n",
       "      <th>Deaths</th>\n",
       "      <th>Recovered</th>\n",
       "    </tr>\n",
       "    <tr>\n",
       "      <th>ObservationDate</th>\n",
       "      <th></th>\n",
       "      <th></th>\n",
       "      <th></th>\n",
       "    </tr>\n",
       "  </thead>\n",
       "  <tbody>\n",
       "    <tr>\n",
       "      <th>2020-01-22</th>\n",
       "      <td>5578.0</td>\n",
       "      <td>131.0</td>\n",
       "      <td>108.0</td>\n",
       "    </tr>\n",
       "    <tr>\n",
       "      <th>2020-01-29</th>\n",
       "      <td>18314.0</td>\n",
       "      <td>361.0</td>\n",
       "      <td>749.0</td>\n",
       "    </tr>\n",
       "    <tr>\n",
       "      <th>2020-02-05</th>\n",
       "      <td>20911.0</td>\n",
       "      <td>621.0</td>\n",
       "      <td>3827.0</td>\n",
       "    </tr>\n",
       "    <tr>\n",
       "      <th>2020-02-12</th>\n",
       "      <td>30335.0</td>\n",
       "      <td>894.0</td>\n",
       "      <td>9668.0</td>\n",
       "    </tr>\n",
       "    <tr>\n",
       "      <th>2020-02-19</th>\n",
       "      <td>5277.0</td>\n",
       "      <td>701.0</td>\n",
       "      <td>13553.0</td>\n",
       "    </tr>\n",
       "    <tr>\n",
       "      <th>...</th>\n",
       "      <td>...</td>\n",
       "      <td>...</td>\n",
       "      <td>...</td>\n",
       "    </tr>\n",
       "    <tr>\n",
       "      <th>2021-04-28</th>\n",
       "      <td>5642661.0</td>\n",
       "      <td>92528.0</td>\n",
       "      <td>4666430.0</td>\n",
       "    </tr>\n",
       "    <tr>\n",
       "      <th>2021-05-05</th>\n",
       "      <td>5331241.0</td>\n",
       "      <td>89658.0</td>\n",
       "      <td>4838711.0</td>\n",
       "    </tr>\n",
       "    <tr>\n",
       "      <th>2021-05-12</th>\n",
       "      <td>4541037.0</td>\n",
       "      <td>86840.0</td>\n",
       "      <td>4800529.0</td>\n",
       "    </tr>\n",
       "    <tr>\n",
       "      <th>2021-05-19</th>\n",
       "      <td>3616396.0</td>\n",
       "      <td>81369.0</td>\n",
       "      <td>4272891.0</td>\n",
       "    </tr>\n",
       "    <tr>\n",
       "      <th>2021-05-26</th>\n",
       "      <td>2103353.0</td>\n",
       "      <td>47831.0</td>\n",
       "      <td>2315734.0</td>\n",
       "    </tr>\n",
       "  </tbody>\n",
       "</table>\n",
       "<p>71 rows × 3 columns</p>\n",
       "</div>"
      ],
      "text/plain": [
       "                 Confirmed   Deaths  Recovered\n",
       "ObservationDate                               \n",
       "2020-01-22          5578.0    131.0      108.0\n",
       "2020-01-29         18314.0    361.0      749.0\n",
       "2020-02-05         20911.0    621.0     3827.0\n",
       "2020-02-12         30335.0    894.0     9668.0\n",
       "2020-02-19          5277.0    701.0    13553.0\n",
       "...                    ...      ...        ...\n",
       "2021-04-28       5642661.0  92528.0  4666430.0\n",
       "2021-05-05       5331241.0  89658.0  4838711.0\n",
       "2021-05-12       4541037.0  86840.0  4800529.0\n",
       "2021-05-19       3616396.0  81369.0  4272891.0\n",
       "2021-05-26       2103353.0  47831.0  2315734.0\n",
       "\n",
       "[71 rows x 3 columns]"
      ]
     },
     "execution_count": 16,
     "metadata": {},
     "output_type": "execute_result"
    }
   ],
   "source": [
    "df_diff.resample(\"7D\").apply(lambda x : sum(x))"
   ]
  },
  {
   "cell_type": "markdown",
   "metadata": {},
   "source": [
    "# Tratar variables nulas en una serie de tiempo"
   ]
  },
  {
   "cell_type": "code",
   "execution_count": 17,
   "metadata": {},
   "outputs": [],
   "source": [
    "df_cum=df_time.resample(\"12h\").sum(min_count=1)"
   ]
  },
  {
   "cell_type": "code",
   "execution_count": 18,
   "metadata": {},
   "outputs": [
    {
     "data": {
      "text/html": [
       "<div>\n",
       "<style scoped>\n",
       "    .dataframe tbody tr th:only-of-type {\n",
       "        vertical-align: middle;\n",
       "    }\n",
       "\n",
       "    .dataframe tbody tr th {\n",
       "        vertical-align: top;\n",
       "    }\n",
       "\n",
       "    .dataframe thead th {\n",
       "        text-align: right;\n",
       "    }\n",
       "</style>\n",
       "<table border=\"1\" class=\"dataframe\">\n",
       "  <thead>\n",
       "    <tr style=\"text-align: right;\">\n",
       "      <th></th>\n",
       "      <th>Confirmed</th>\n",
       "      <th>Deaths</th>\n",
       "      <th>Recovered</th>\n",
       "    </tr>\n",
       "    <tr>\n",
       "      <th>ObservationDate</th>\n",
       "      <th></th>\n",
       "      <th></th>\n",
       "      <th></th>\n",
       "    </tr>\n",
       "  </thead>\n",
       "  <tbody>\n",
       "    <tr>\n",
       "      <th>2020-01-22 00:00:00</th>\n",
       "      <td>557.0</td>\n",
       "      <td>17.0</td>\n",
       "      <td>30.0</td>\n",
       "    </tr>\n",
       "    <tr>\n",
       "      <th>2020-01-22 12:00:00</th>\n",
       "      <td>1097.0</td>\n",
       "      <td>34.0</td>\n",
       "      <td>60.0</td>\n",
       "    </tr>\n",
       "    <tr>\n",
       "      <th>2020-01-23 00:00:00</th>\n",
       "      <td>1097.0</td>\n",
       "      <td>34.0</td>\n",
       "      <td>60.0</td>\n",
       "    </tr>\n",
       "    <tr>\n",
       "      <th>2020-01-23 12:00:00</th>\n",
       "      <td>941.0</td>\n",
       "      <td>26.0</td>\n",
       "      <td>39.0</td>\n",
       "    </tr>\n",
       "    <tr>\n",
       "      <th>2020-01-24 00:00:00</th>\n",
       "      <td>941.0</td>\n",
       "      <td>26.0</td>\n",
       "      <td>39.0</td>\n",
       "    </tr>\n",
       "    <tr>\n",
       "      <th>...</th>\n",
       "      <td>...</td>\n",
       "      <td>...</td>\n",
       "      <td>...</td>\n",
       "    </tr>\n",
       "    <tr>\n",
       "      <th>2021-05-27 00:00:00</th>\n",
       "      <td>168970791.0</td>\n",
       "      <td>3511297.0</td>\n",
       "      <td>106078106.0</td>\n",
       "    </tr>\n",
       "    <tr>\n",
       "      <th>2021-05-27 12:00:00</th>\n",
       "      <td>169470725.0</td>\n",
       "      <td>3523117.0</td>\n",
       "      <td>106633069.0</td>\n",
       "    </tr>\n",
       "    <tr>\n",
       "      <th>2021-05-28 00:00:00</th>\n",
       "      <td>169470725.0</td>\n",
       "      <td>3523117.0</td>\n",
       "      <td>106633069.0</td>\n",
       "    </tr>\n",
       "    <tr>\n",
       "      <th>2021-05-28 12:00:00</th>\n",
       "      <td>169951560.0</td>\n",
       "      <td>3533619.0</td>\n",
       "      <td>107140669.0</td>\n",
       "    </tr>\n",
       "    <tr>\n",
       "      <th>2021-05-29 00:00:00</th>\n",
       "      <td>169951560.0</td>\n",
       "      <td>3533619.0</td>\n",
       "      <td>107140669.0</td>\n",
       "    </tr>\n",
       "  </tbody>\n",
       "</table>\n",
       "<p>987 rows × 3 columns</p>\n",
       "</div>"
      ],
      "text/plain": [
       "                       Confirmed     Deaths    Recovered\n",
       "ObservationDate                                         \n",
       "2020-01-22 00:00:00        557.0       17.0         30.0\n",
       "2020-01-22 12:00:00       1097.0       34.0         60.0\n",
       "2020-01-23 00:00:00       1097.0       34.0         60.0\n",
       "2020-01-23 12:00:00        941.0       26.0         39.0\n",
       "2020-01-24 00:00:00        941.0       26.0         39.0\n",
       "...                          ...        ...          ...\n",
       "2021-05-27 00:00:00  168970791.0  3511297.0  106078106.0\n",
       "2021-05-27 12:00:00  169470725.0  3523117.0  106633069.0\n",
       "2021-05-28 00:00:00  169470725.0  3523117.0  106633069.0\n",
       "2021-05-28 12:00:00  169951560.0  3533619.0  107140669.0\n",
       "2021-05-29 00:00:00  169951560.0  3533619.0  107140669.0\n",
       "\n",
       "[987 rows x 3 columns]"
      ]
     },
     "execution_count": 18,
     "metadata": {},
     "output_type": "execute_result"
    }
   ],
   "source": [
    "df_cum.bfill()"
   ]
  },
  {
   "cell_type": "code",
   "execution_count": 25,
   "metadata": {},
   "outputs": [],
   "source": [
    "df_cum.interpolate(inplace = True)"
   ]
  },
  {
   "cell_type": "code",
   "execution_count": 26,
   "metadata": {},
   "outputs": [],
   "source": [
    "df_cum[\"rate\"]= 1- df_cum[\"Deaths\"]/df_cum[\"Confirmed\"]"
   ]
  },
  {
   "cell_type": "code",
   "execution_count": null,
   "metadata": {},
   "outputs": [],
   "source": [
    "df_cum=df_cum.reset_index()\n"
   ]
  },
  {
   "cell_type": "code",
   "execution_count": 39,
   "metadata": {},
   "outputs": [],
   "source": [
    "df_cum.drop([\"index\",\"level_0\"],inplace=True,axis=1)"
   ]
  },
  {
   "cell_type": "code",
   "execution_count": 45,
   "metadata": {},
   "outputs": [
    {
     "data": {
      "text/html": [
       "<div>\n",
       "<style scoped>\n",
       "    .dataframe tbody tr th:only-of-type {\n",
       "        vertical-align: middle;\n",
       "    }\n",
       "\n",
       "    .dataframe tbody tr th {\n",
       "        vertical-align: top;\n",
       "    }\n",
       "\n",
       "    .dataframe thead th {\n",
       "        text-align: right;\n",
       "    }\n",
       "</style>\n",
       "<table border=\"1\" class=\"dataframe\">\n",
       "  <thead>\n",
       "    <tr style=\"text-align: right;\">\n",
       "      <th></th>\n",
       "      <th>ObservationDate</th>\n",
       "      <th>Confirmed</th>\n",
       "      <th>Deaths</th>\n",
       "      <th>Recovered</th>\n",
       "      <th>rate</th>\n",
       "    </tr>\n",
       "  </thead>\n",
       "  <tbody>\n",
       "    <tr>\n",
       "      <th>0</th>\n",
       "      <td>2020-01-22 00:00:00</td>\n",
       "      <td>557.0</td>\n",
       "      <td>17.0</td>\n",
       "      <td>30.0</td>\n",
       "      <td>0.969479</td>\n",
       "    </tr>\n",
       "    <tr>\n",
       "      <th>1</th>\n",
       "      <td>2020-01-22 12:00:00</td>\n",
       "      <td>827.0</td>\n",
       "      <td>25.5</td>\n",
       "      <td>45.0</td>\n",
       "      <td>0.969166</td>\n",
       "    </tr>\n",
       "    <tr>\n",
       "      <th>2</th>\n",
       "      <td>2020-01-23 00:00:00</td>\n",
       "      <td>1097.0</td>\n",
       "      <td>34.0</td>\n",
       "      <td>60.0</td>\n",
       "      <td>0.969006</td>\n",
       "    </tr>\n",
       "    <tr>\n",
       "      <th>3</th>\n",
       "      <td>2020-01-23 12:00:00</td>\n",
       "      <td>1019.0</td>\n",
       "      <td>30.0</td>\n",
       "      <td>49.5</td>\n",
       "      <td>0.970559</td>\n",
       "    </tr>\n",
       "    <tr>\n",
       "      <th>4</th>\n",
       "      <td>2020-01-24 00:00:00</td>\n",
       "      <td>941.0</td>\n",
       "      <td>26.0</td>\n",
       "      <td>39.0</td>\n",
       "      <td>0.972370</td>\n",
       "    </tr>\n",
       "    <tr>\n",
       "      <th>...</th>\n",
       "      <td>...</td>\n",
       "      <td>...</td>\n",
       "      <td>...</td>\n",
       "      <td>...</td>\n",
       "      <td>...</td>\n",
       "    </tr>\n",
       "    <tr>\n",
       "      <th>982</th>\n",
       "      <td>2021-05-27 00:00:00</td>\n",
       "      <td>168970791.0</td>\n",
       "      <td>3511297.0</td>\n",
       "      <td>106078106.0</td>\n",
       "      <td>0.979220</td>\n",
       "    </tr>\n",
       "    <tr>\n",
       "      <th>983</th>\n",
       "      <td>2021-05-27 12:00:00</td>\n",
       "      <td>169220758.0</td>\n",
       "      <td>3517207.0</td>\n",
       "      <td>106355587.5</td>\n",
       "      <td>0.979215</td>\n",
       "    </tr>\n",
       "    <tr>\n",
       "      <th>984</th>\n",
       "      <td>2021-05-28 00:00:00</td>\n",
       "      <td>169470725.0</td>\n",
       "      <td>3523117.0</td>\n",
       "      <td>106633069.0</td>\n",
       "      <td>0.979211</td>\n",
       "    </tr>\n",
       "    <tr>\n",
       "      <th>985</th>\n",
       "      <td>2021-05-28 12:00:00</td>\n",
       "      <td>169711142.5</td>\n",
       "      <td>3528368.0</td>\n",
       "      <td>106886869.0</td>\n",
       "      <td>0.979210</td>\n",
       "    </tr>\n",
       "    <tr>\n",
       "      <th>986</th>\n",
       "      <td>2021-05-29 00:00:00</td>\n",
       "      <td>169951560.0</td>\n",
       "      <td>3533619.0</td>\n",
       "      <td>107140669.0</td>\n",
       "      <td>0.979208</td>\n",
       "    </tr>\n",
       "  </tbody>\n",
       "</table>\n",
       "<p>987 rows × 5 columns</p>\n",
       "</div>"
      ],
      "text/plain": [
       "        ObservationDate    Confirmed     Deaths    Recovered      rate\n",
       "0   2020-01-22 00:00:00        557.0       17.0         30.0  0.969479\n",
       "1   2020-01-22 12:00:00        827.0       25.5         45.0  0.969166\n",
       "2   2020-01-23 00:00:00       1097.0       34.0         60.0  0.969006\n",
       "3   2020-01-23 12:00:00       1019.0       30.0         49.5  0.970559\n",
       "4   2020-01-24 00:00:00        941.0       26.0         39.0  0.972370\n",
       "..                  ...          ...        ...          ...       ...\n",
       "982 2021-05-27 00:00:00  168970791.0  3511297.0  106078106.0  0.979220\n",
       "983 2021-05-27 12:00:00  169220758.0  3517207.0  106355587.5  0.979215\n",
       "984 2021-05-28 00:00:00  169470725.0  3523117.0  106633069.0  0.979211\n",
       "985 2021-05-28 12:00:00  169711142.5  3528368.0  106886869.0  0.979210\n",
       "986 2021-05-29 00:00:00  169951560.0  3533619.0  107140669.0  0.979208\n",
       "\n",
       "[987 rows x 5 columns]"
      ]
     },
     "execution_count": 45,
     "metadata": {},
     "output_type": "execute_result"
    }
   ],
   "source": [
    "df_cum"
   ]
  },
  {
   "cell_type": "markdown",
   "metadata": {},
   "source": [
    "Estudiemos ahora el caso en que la variable tiempo no es un indice sino que es solomente una columna mas"
   ]
  },
  {
   "cell_type": "code",
   "execution_count": 49,
   "metadata": {},
   "outputs": [
    {
     "data": {
      "text/html": [
       "<div>\n",
       "<style scoped>\n",
       "    .dataframe tbody tr th:only-of-type {\n",
       "        vertical-align: middle;\n",
       "    }\n",
       "\n",
       "    .dataframe tbody tr th {\n",
       "        vertical-align: top;\n",
       "    }\n",
       "\n",
       "    .dataframe thead th {\n",
       "        text-align: right;\n",
       "    }\n",
       "</style>\n",
       "<table border=\"1\" class=\"dataframe\">\n",
       "  <thead>\n",
       "    <tr style=\"text-align: right;\">\n",
       "      <th></th>\n",
       "      <th>rate</th>\n",
       "    </tr>\n",
       "    <tr>\n",
       "      <th>ObservationDate</th>\n",
       "      <th></th>\n",
       "    </tr>\n",
       "  </thead>\n",
       "  <tbody>\n",
       "    <tr>\n",
       "      <th>2020-01-31</th>\n",
       "      <td>0.974241</td>\n",
       "    </tr>\n",
       "    <tr>\n",
       "      <th>2020-02-29</th>\n",
       "      <td>0.973562</td>\n",
       "    </tr>\n",
       "    <tr>\n",
       "      <th>2020-03-31</th>\n",
       "      <td>0.960046</td>\n",
       "    </tr>\n",
       "    <tr>\n",
       "      <th>2020-04-30</th>\n",
       "      <td>0.935326</td>\n",
       "    </tr>\n",
       "    <tr>\n",
       "      <th>2020-05-31</th>\n",
       "      <td>0.933192</td>\n",
       "    </tr>\n",
       "    <tr>\n",
       "      <th>2020-06-30</th>\n",
       "      <td>0.945718</td>\n",
       "    </tr>\n",
       "    <tr>\n",
       "      <th>2020-07-31</th>\n",
       "      <td>0.957081</td>\n",
       "    </tr>\n",
       "    <tr>\n",
       "      <th>2020-08-31</th>\n",
       "      <td>0.964339</td>\n",
       "    </tr>\n",
       "    <tr>\n",
       "      <th>2020-09-30</th>\n",
       "      <td>0.968524</td>\n",
       "    </tr>\n",
       "    <tr>\n",
       "      <th>2020-10-31</th>\n",
       "      <td>0.972054</td>\n",
       "    </tr>\n",
       "    <tr>\n",
       "      <th>2020-11-30</th>\n",
       "      <td>0.975737</td>\n",
       "    </tr>\n",
       "    <tr>\n",
       "      <th>2020-12-31</th>\n",
       "      <td>0.977648</td>\n",
       "    </tr>\n",
       "    <tr>\n",
       "      <th>2021-01-31</th>\n",
       "      <td>0.978428</td>\n",
       "    </tr>\n",
       "    <tr>\n",
       "      <th>2021-02-28</th>\n",
       "      <td>0.977961</td>\n",
       "    </tr>\n",
       "    <tr>\n",
       "      <th>2021-03-31</th>\n",
       "      <td>0.977912</td>\n",
       "    </tr>\n",
       "    <tr>\n",
       "      <th>2021-04-30</th>\n",
       "      <td>0.978577</td>\n",
       "    </tr>\n",
       "    <tr>\n",
       "      <th>2021-05-31</th>\n",
       "      <td>0.979203</td>\n",
       "    </tr>\n",
       "  </tbody>\n",
       "</table>\n",
       "</div>"
      ],
      "text/plain": [
       "                     rate\n",
       "ObservationDate          \n",
       "2020-01-31       0.974241\n",
       "2020-02-29       0.973562\n",
       "2020-03-31       0.960046\n",
       "2020-04-30       0.935326\n",
       "2020-05-31       0.933192\n",
       "2020-06-30       0.945718\n",
       "2020-07-31       0.957081\n",
       "2020-08-31       0.964339\n",
       "2020-09-30       0.968524\n",
       "2020-10-31       0.972054\n",
       "2020-11-30       0.975737\n",
       "2020-12-31       0.977648\n",
       "2021-01-31       0.978428\n",
       "2021-02-28       0.977961\n",
       "2021-03-31       0.977912\n",
       "2021-04-30       0.978577\n",
       "2021-05-31       0.979203"
      ]
     },
     "execution_count": 49,
     "metadata": {},
     "output_type": "execute_result"
    }
   ],
   "source": [
    "df_cum.groupby(pd.Grouper(key=\"ObservationDate\",freq=\"M\"))[[\"rate\"]].mean()"
   ]
  },
  {
   "cell_type": "code",
   "execution_count": 52,
   "metadata": {},
   "outputs": [],
   "source": [
    "sr=df_cum.groupby(pd.Grouper(key=\"ObservationDate\",freq=\"1D\"))[\"rate\"].mean()"
   ]
  },
  {
   "cell_type": "code",
   "execution_count": 64,
   "metadata": {},
   "outputs": [
    {
     "data": {
      "text/plain": [
       "<AxesSubplot:xlabel='ObservationDate'>"
      ]
     },
     "execution_count": 64,
     "metadata": {},
     "output_type": "execute_result"
    },
    {
     "data": {
      "image/png": "[encoded data removed]",
      "text/plain": [
       "<Figure size 432x288 with 1 Axes>"
      ]
     },
     "metadata": {
      "needs_background": "light"
     },
     "output_type": "display_data"
    }
   ],
   "source": [
    "sr.plot()\n",
    "sr.rolling(window=7).mean().plot()\n",
    "sr.rolling(window=15).mean().plot()"
   ]
  },
  {
   "cell_type": "markdown",
   "metadata": {},
   "source": [
    "# ¿Que pais donde mas ocurrencias de covid existen?"
   ]
  },
  {
   "cell_type": "code",
   "execution_count": 71,
   "metadata": {},
   "outputs": [
    {
     "data": {
      "text/plain": [
       "Country/Region\n",
       "France             5863138.0\n",
       "India              5713215.0\n",
       "Turkey             5235978.0\n",
       "UK                 3910803.0\n",
       "US                 3788713.0\n",
       "                     ...    \n",
       "East Timor               1.0\n",
       "Curacao                  1.0\n",
       "Channel Islands          1.0\n",
       " Azerbaijan              1.0\n",
       "China                    0.0\n",
       "Name: Confirmed, Length: 229, dtype: float64"
      ]
     },
     "execution_count": 71,
     "metadata": {},
     "output_type": "execute_result"
    }
   ],
   "source": [
    "df_1.groupby(\"Country/Region\")[\"Confirmed\"].max().sort_values(ascending=False)"
   ]
  },
  {
   "cell_type": "code",
   "execution_count": 93,
   "metadata": {},
   "outputs": [],
   "source": [
    "df_time=df_1.groupby([\"Country/Region\",\n",
    "        pd.Grouper(key=\"ObservationDate\",freq=\"1D\")]).sum()"
   ]
  },
  {
   "cell_type": "code",
   "execution_count": 94,
   "metadata": {},
   "outputs": [
    {
     "data": {
      "text/html": [
       "<div>\n",
       "<style scoped>\n",
       "    .dataframe tbody tr th:only-of-type {\n",
       "        vertical-align: middle;\n",
       "    }\n",
       "\n",
       "    .dataframe tbody tr th {\n",
       "        vertical-align: top;\n",
       "    }\n",
       "\n",
       "    .dataframe thead th {\n",
       "        text-align: right;\n",
       "    }\n",
       "</style>\n",
       "<table border=\"1\" class=\"dataframe\">\n",
       "  <thead>\n",
       "    <tr style=\"text-align: right;\">\n",
       "      <th></th>\n",
       "      <th></th>\n",
       "      <th>Confirmed</th>\n",
       "      <th>Deaths</th>\n",
       "      <th>Recovered</th>\n",
       "    </tr>\n",
       "    <tr>\n",
       "      <th>Country/Region</th>\n",
       "      <th>ObservationDate</th>\n",
       "      <th></th>\n",
       "      <th></th>\n",
       "      <th></th>\n",
       "    </tr>\n",
       "  </thead>\n",
       "  <tbody>\n",
       "    <tr>\n",
       "      <th>Azerbaijan</th>\n",
       "      <th>2020-02-28</th>\n",
       "      <td>1.0</td>\n",
       "      <td>0.0</td>\n",
       "      <td>0.0</td>\n",
       "    </tr>\n",
       "    <tr>\n",
       "      <th>('St. Martin',)</th>\n",
       "      <th>2020-03-10</th>\n",
       "      <td>2.0</td>\n",
       "      <td>0.0</td>\n",
       "      <td>0.0</td>\n",
       "    </tr>\n",
       "    <tr>\n",
       "      <th rowspan=\"3\" valign=\"top\">Afghanistan</th>\n",
       "      <th>2020-02-24</th>\n",
       "      <td>1.0</td>\n",
       "      <td>0.0</td>\n",
       "      <td>0.0</td>\n",
       "    </tr>\n",
       "    <tr>\n",
       "      <th>2020-02-25</th>\n",
       "      <td>1.0</td>\n",
       "      <td>0.0</td>\n",
       "      <td>0.0</td>\n",
       "    </tr>\n",
       "    <tr>\n",
       "      <th>2020-02-26</th>\n",
       "      <td>1.0</td>\n",
       "      <td>0.0</td>\n",
       "      <td>0.0</td>\n",
       "    </tr>\n",
       "    <tr>\n",
       "      <th>...</th>\n",
       "      <th>...</th>\n",
       "      <td>...</td>\n",
       "      <td>...</td>\n",
       "      <td>...</td>\n",
       "    </tr>\n",
       "    <tr>\n",
       "      <th rowspan=\"5\" valign=\"top\">occupied Palestinian territory</th>\n",
       "      <th>2020-03-12</th>\n",
       "      <td>0.0</td>\n",
       "      <td>0.0</td>\n",
       "      <td>0.0</td>\n",
       "    </tr>\n",
       "    <tr>\n",
       "      <th>2020-03-14</th>\n",
       "      <td>0.0</td>\n",
       "      <td>0.0</td>\n",
       "      <td>0.0</td>\n",
       "    </tr>\n",
       "    <tr>\n",
       "      <th>2020-03-15</th>\n",
       "      <td>0.0</td>\n",
       "      <td>0.0</td>\n",
       "      <td>0.0</td>\n",
       "    </tr>\n",
       "    <tr>\n",
       "      <th>2020-03-16</th>\n",
       "      <td>0.0</td>\n",
       "      <td>0.0</td>\n",
       "      <td>0.0</td>\n",
       "    </tr>\n",
       "    <tr>\n",
       "      <th>2020-03-17</th>\n",
       "      <td>0.0</td>\n",
       "      <td>0.0</td>\n",
       "      <td>0.0</td>\n",
       "    </tr>\n",
       "  </tbody>\n",
       "</table>\n",
       "<p>87281 rows × 3 columns</p>\n",
       "</div>"
      ],
      "text/plain": [
       "                                                Confirmed  Deaths  Recovered\n",
       "Country/Region                 ObservationDate                              \n",
       " Azerbaijan                    2020-02-28             1.0     0.0        0.0\n",
       "('St. Martin',)                2020-03-10             2.0     0.0        0.0\n",
       "Afghanistan                    2020-02-24             1.0     0.0        0.0\n",
       "                               2020-02-25             1.0     0.0        0.0\n",
       "                               2020-02-26             1.0     0.0        0.0\n",
       "...                                                   ...     ...        ...\n",
       "occupied Palestinian territory 2020-03-12             0.0     0.0        0.0\n",
       "                               2020-03-14             0.0     0.0        0.0\n",
       "                               2020-03-15             0.0     0.0        0.0\n",
       "                               2020-03-16             0.0     0.0        0.0\n",
       "                               2020-03-17             0.0     0.0        0.0\n",
       "\n",
       "[87281 rows x 3 columns]"
      ]
     },
     "execution_count": 94,
     "metadata": {},
     "output_type": "execute_result"
    }
   ],
   "source": [
    "df_time"
   ]
  },
  {
   "cell_type": "code",
   "execution_count": 97,
   "metadata": {},
   "outputs": [],
   "source": [
    "df_colombia=df_time.loc[\"Colombia\",:]"
   ]
  },
  {
   "cell_type": "code",
   "execution_count": 105,
   "metadata": {},
   "outputs": [
    {
     "data": {
      "image/png": "[encoded data removed]",
      "text/plain": [
       "<Figure size 720x504 with 1 Axes>"
      ]
     },
     "metadata": {
      "needs_background": "light"
     },
     "output_type": "display_data"
    }
   ],
   "source": [
    "ax=df_colombia.plot(figsize=(10,7),title=\"covid colombia\",\n",
    "                legend=False,\n",
    "                style=[\"r-\",\"g--\",\"b:*\"])\n",
    "ax.legend([\"Confimados\",\"Muertes\",\"Recuperados\"])\n",
    "plt.xlabel(\"Datos\")\n",
    "plt.ylabel(\"People\")\n",
    "plt.show()"
   ]
  },
  {
   "cell_type": "markdown",
   "metadata": {},
   "source": [
    "el numero maximo cada mes"
   ]
  },
  {
   "cell_type": "code",
   "execution_count": 144,
   "metadata": {},
   "outputs": [],
   "source": [
    "df_year=df_colombia.resample(\"12M\").max()"
   ]
  },
  {
   "cell_type": "code",
   "execution_count": 145,
   "metadata": {},
   "outputs": [
    {
     "data": {
      "text/plain": [
       "<AxesSubplot:xlabel='ObservationDate'>"
      ]
     },
     "execution_count": 145,
     "metadata": {},
     "output_type": "execute_result"
    },
    {
     "data": {
      "image/png": "[encoded data removed]",
      "text/plain": [
       "<Figure size 720x504 with 1 Axes>"
      ]
     },
     "metadata": {
      "needs_background": "light"
     },
     "output_type": "display_data"
    }
   ],
   "source": [
    "df_year.plot(figsize=(10,7), kind=\"bar\",stacked=True)"
   ]
  },
  {
   "cell_type": "markdown",
   "metadata": {},
   "source": [
    "# Personas en tratamiento"
   ]
  },
  {
   "cell_type": "code",
   "execution_count": 150,
   "metadata": {},
   "outputs": [],
   "source": [
    "df_year[\"Traitment\"]= df_year[\"Confirmed\"]-df_year[\"Deaths\"]-df_year[\"Recovered\"]"
   ]
  },
  {
   "cell_type": "code",
   "execution_count": 151,
   "metadata": {},
   "outputs": [
    {
     "data": {
      "text/html": [
       "<div>\n",
       "<style scoped>\n",
       "    .dataframe tbody tr th:only-of-type {\n",
       "        vertical-align: middle;\n",
       "    }\n",
       "\n",
       "    .dataframe tbody tr th {\n",
       "        vertical-align: top;\n",
       "    }\n",
       "\n",
       "    .dataframe thead th {\n",
       "        text-align: right;\n",
       "    }\n",
       "</style>\n",
       "<table border=\"1\" class=\"dataframe\">\n",
       "  <thead>\n",
       "    <tr style=\"text-align: right;\">\n",
       "      <th></th>\n",
       "      <th>Confirmed</th>\n",
       "      <th>Deaths</th>\n",
       "      <th>Recovered</th>\n",
       "      <th>Traitment</th>\n",
       "    </tr>\n",
       "    <tr>\n",
       "      <th>ObservationDate</th>\n",
       "      <th></th>\n",
       "      <th></th>\n",
       "      <th></th>\n",
       "      <th></th>\n",
       "    </tr>\n",
       "  </thead>\n",
       "  <tbody>\n",
       "    <tr>\n",
       "      <th>2020-01-31</th>\n",
       "      <td>0.0</td>\n",
       "      <td>0.0</td>\n",
       "      <td>0.0</td>\n",
       "      <td>0.0</td>\n",
       "    </tr>\n",
       "    <tr>\n",
       "      <th>2021-01-31</th>\n",
       "      <td>2094884.0</td>\n",
       "      <td>53983.0</td>\n",
       "      <td>1938322.0</td>\n",
       "      <td>102579.0</td>\n",
       "    </tr>\n",
       "    <tr>\n",
       "      <th>2022-01-31</th>\n",
       "      <td>3363061.0</td>\n",
       "      <td>87747.0</td>\n",
       "      <td>3141549.0</td>\n",
       "      <td>133765.0</td>\n",
       "    </tr>\n",
       "  </tbody>\n",
       "</table>\n",
       "</div>"
      ],
      "text/plain": [
       "                 Confirmed   Deaths  Recovered  Traitment\n",
       "ObservationDate                                          \n",
       "2020-01-31             0.0      0.0        0.0        0.0\n",
       "2021-01-31       2094884.0  53983.0  1938322.0   102579.0\n",
       "2022-01-31       3363061.0  87747.0  3141549.0   133765.0"
      ]
     },
     "execution_count": 151,
     "metadata": {},
     "output_type": "execute_result"
    }
   ],
   "source": [
    "df_year.ffill(inplace=True)\n",
    "df_year"
   ]
  },
  {
   "cell_type": "code",
   "execution_count": 152,
   "metadata": {},
   "outputs": [
    {
     "name": "stderr",
     "output_type": "stream",
     "text": [
      "/home/usuario/Documentos/Platzi/Manipulacion_analisis_datos/env/lib/python3.6/site-packages/pandas/plotting/_matplotlib/core.py:1547: MatplotlibDeprecationWarning: normalize=None does not normalize if the sum is less than 1 but this behavior is deprecated since 3.3 until two minor releases later. After the deprecation period the default value will be normalize=True. To prevent normalization pass normalize=False \n",
      "  results = ax.pie(y, labels=blabels, **kwds)\n",
      "No handles with labels found to put in legend.\n"
     ]
    },
    {
     "data": {
      "text/plain": [
       "array([<AxesSubplot:ylabel='2020-01-31 00:00:00'>,\n",
       "       <AxesSubplot:ylabel='2021-01-31 00:00:00'>,\n",
       "       <AxesSubplot:ylabel='2022-01-31 00:00:00'>], dtype=object)"
      ]
     },
     "execution_count": 152,
     "metadata": {},
     "output_type": "execute_result"
    },
    {
     "data": {
      "image/png": "[encoded data removed]",
      "text/plain": [
       "<Figure size 720x504 with 3 Axes>"
      ]
     },
     "metadata": {},
     "output_type": "display_data"
    }
   ],
   "source": [
    "df_year[['Traitment', 'Deaths', 'Recovered', ]].T.plot(figsize=(10,7),kind=\"pie\",subplots=True)"
   ]
  },
  {
   "cell_type": "markdown",
   "metadata": {},
   "source": [
    "Se observa que la base de datos tiene varios datos como cero dado que existen registros sin llenar"
   ]
  },
  {
   "cell_type": "code",
   "execution_count": 153,
   "metadata": {},
   "outputs": [],
   "source": [
    "df_year[\"rate\"]= 1- df_year[\"Deaths\"]/df_year[\"Confirmed\"]"
   ]
  },
  {
   "cell_type": "code",
   "execution_count": 156,
   "metadata": {},
   "outputs": [],
   "source": [
    "df_colombia[\"rate\"]= 1- df_colombia[\"Deaths\"]/df_colombia[\"Confirmed\"]"
   ]
  },
  {
   "cell_type": "code",
   "execution_count": 160,
   "metadata": {},
   "outputs": [
    {
     "data": {
      "text/html": [
       "<div>\n",
       "<style scoped>\n",
       "    .dataframe tbody tr th:only-of-type {\n",
       "        vertical-align: middle;\n",
       "    }\n",
       "\n",
       "    .dataframe tbody tr th {\n",
       "        vertical-align: top;\n",
       "    }\n",
       "\n",
       "    .dataframe thead th {\n",
       "        text-align: right;\n",
       "    }\n",
       "</style>\n",
       "<table border=\"1\" class=\"dataframe\">\n",
       "  <thead>\n",
       "    <tr style=\"text-align: right;\">\n",
       "      <th></th>\n",
       "      <th>Confirmed</th>\n",
       "      <th>Deaths</th>\n",
       "      <th>Recovered</th>\n",
       "      <th>rate</th>\n",
       "    </tr>\n",
       "    <tr>\n",
       "      <th>ObservationDate</th>\n",
       "      <th></th>\n",
       "      <th></th>\n",
       "      <th></th>\n",
       "      <th></th>\n",
       "    </tr>\n",
       "  </thead>\n",
       "  <tbody>\n",
       "    <tr>\n",
       "      <th>2020-01-23</th>\n",
       "      <td>0.0</td>\n",
       "      <td>0.0</td>\n",
       "      <td>0.0</td>\n",
       "      <td>1.000000</td>\n",
       "    </tr>\n",
       "    <tr>\n",
       "      <th>2020-03-06</th>\n",
       "      <td>1.0</td>\n",
       "      <td>0.0</td>\n",
       "      <td>0.0</td>\n",
       "      <td>1.000000</td>\n",
       "    </tr>\n",
       "    <tr>\n",
       "      <th>2020-03-07</th>\n",
       "      <td>1.0</td>\n",
       "      <td>0.0</td>\n",
       "      <td>0.0</td>\n",
       "      <td>1.000000</td>\n",
       "    </tr>\n",
       "    <tr>\n",
       "      <th>2020-03-08</th>\n",
       "      <td>1.0</td>\n",
       "      <td>0.0</td>\n",
       "      <td>0.0</td>\n",
       "      <td>1.000000</td>\n",
       "    </tr>\n",
       "    <tr>\n",
       "      <th>2020-03-09</th>\n",
       "      <td>1.0</td>\n",
       "      <td>0.0</td>\n",
       "      <td>0.0</td>\n",
       "      <td>1.000000</td>\n",
       "    </tr>\n",
       "    <tr>\n",
       "      <th>...</th>\n",
       "      <td>...</td>\n",
       "      <td>...</td>\n",
       "      <td>...</td>\n",
       "      <td>...</td>\n",
       "    </tr>\n",
       "    <tr>\n",
       "      <th>2021-05-25</th>\n",
       "      <td>3270614.0</td>\n",
       "      <td>85666.0</td>\n",
       "      <td>3063330.0</td>\n",
       "      <td>0.973807</td>\n",
       "    </tr>\n",
       "    <tr>\n",
       "      <th>2021-05-26</th>\n",
       "      <td>3294101.0</td>\n",
       "      <td>86180.0</td>\n",
       "      <td>3078965.0</td>\n",
       "      <td>0.973838</td>\n",
       "    </tr>\n",
       "    <tr>\n",
       "      <th>2021-05-27</th>\n",
       "      <td>3319193.0</td>\n",
       "      <td>86693.0</td>\n",
       "      <td>3101390.0</td>\n",
       "      <td>0.973881</td>\n",
       "    </tr>\n",
       "    <tr>\n",
       "      <th>2021-05-28</th>\n",
       "      <td>3342567.0</td>\n",
       "      <td>87207.0</td>\n",
       "      <td>3121888.0</td>\n",
       "      <td>0.973910</td>\n",
       "    </tr>\n",
       "    <tr>\n",
       "      <th>2021-05-29</th>\n",
       "      <td>3363061.0</td>\n",
       "      <td>87747.0</td>\n",
       "      <td>3141549.0</td>\n",
       "      <td>0.973909</td>\n",
       "    </tr>\n",
       "  </tbody>\n",
       "</table>\n",
       "<p>451 rows × 4 columns</p>\n",
       "</div>"
      ],
      "text/plain": [
       "                 Confirmed   Deaths  Recovered      rate\n",
       "ObservationDate                                         \n",
       "2020-01-23             0.0      0.0        0.0  1.000000\n",
       "2020-03-06             1.0      0.0        0.0  1.000000\n",
       "2020-03-07             1.0      0.0        0.0  1.000000\n",
       "2020-03-08             1.0      0.0        0.0  1.000000\n",
       "2020-03-09             1.0      0.0        0.0  1.000000\n",
       "...                    ...      ...        ...       ...\n",
       "2021-05-25       3270614.0  85666.0  3063330.0  0.973807\n",
       "2021-05-26       3294101.0  86180.0  3078965.0  0.973838\n",
       "2021-05-27       3319193.0  86693.0  3101390.0  0.973881\n",
       "2021-05-28       3342567.0  87207.0  3121888.0  0.973910\n",
       "2021-05-29       3363061.0  87747.0  3141549.0  0.973909\n",
       "\n",
       "[451 rows x 4 columns]"
      ]
     },
     "execution_count": 160,
     "metadata": {},
     "output_type": "execute_result"
    }
   ],
   "source": [
    "df_colombia.bfill(inplace=True)\n",
    "df_colombia\n"
   ]
  },
  {
   "cell_type": "code",
   "execution_count": 166,
   "metadata": {},
   "outputs": [
    {
     "data": {
      "text/plain": [
       "<AxesSubplot:ylabel='Density'>"
      ]
     },
     "execution_count": 166,
     "metadata": {},
     "output_type": "execute_result"
    },
    {
     "data": {
      "image/png": "[encoded data removed]",
      "text/plain": [
       "<Figure size 720x504 with 1 Axes>"
      ]
     },
     "metadata": {
      "needs_background": "light"
     },
     "output_type": "display_data"
    }
   ],
   "source": [
    "df_colombia[\"rate\"].plot(figsize=(10,7),kind=\"kde\")"
   ]
  },
  {
   "cell_type": "markdown",
   "metadata": {},
   "source": [
    "# https://pandas.pydata.org/docs/"
   ]
  }
 ],
 "metadata": {
  "interpreter": {
   "hash": "0be5c656b6bb4c408fe964106e4feb61c3065938d9b22840a7896c514ab4ca9a"
  },
  "kernelspec": {
   "display_name": "Python 3.6.9 64-bit ('env': venv)",
   "language": "python",
   "name": "python3"
  },
  "language_info": {
   "codemirror_mode": {
    "name": "ipython",
    "version": 3
   },
   "file_extension": ".py",
   "mimetype": "text/x-python",
   "name": "python",
   "nbconvert_exporter": "python",
   "pygments_lexer": "ipython3",
   "version": "3.6.9"
  },
  "orig_nbformat": 4
 },
 "nbformat": 4,
 "nbformat_minor": 2
}
